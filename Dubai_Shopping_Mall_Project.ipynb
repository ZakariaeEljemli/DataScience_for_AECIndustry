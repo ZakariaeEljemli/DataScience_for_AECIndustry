{
  "nbformat": 4,
  "nbformat_minor": 0,
  "metadata": {
    "colab": {
      "name": "Dubai Shopping Mall Project.ipynb",
      "provenance": [],
      "collapsed_sections": []
    },
    "kernelspec": {
      "name": "python3",
      "display_name": "Python 3"
    },
    "language_info": {
      "name": "python"
    }
  },
  "cells": [
    {
      "cell_type": "code",
      "metadata": {
        "id": "jQKWugF1SHdo"
      },
      "source": [
        "import pandas as pd"
      ],
      "execution_count": 1,
      "outputs": []
    },
    {
      "cell_type": "code",
      "metadata": {
        "id": "KdbSnjE9WePe"
      },
      "source": [
        "df = pd.DataFrame({\"a\":[1,2,3],\"b\":[2,4,6],\"c\":[8,9,10]},index = [\"voiture\",\"vélo\",\"trottinette\"])"
      ],
      "execution_count": 2,
      "outputs": []
    },
    {
      "cell_type": "code",
      "metadata": {
        "colab": {
          "base_uri": "https://localhost:8080/",
          "height": 142
        },
        "id": "Le9ErgfEW1rs",
        "outputId": "465ca056-dab7-43a6-e74a-b6e4743f07e0"
      },
      "source": [
        "df"
      ],
      "execution_count": 3,
      "outputs": [
        {
          "output_type": "execute_result",
          "data": {
            "text/html": [
              "<div>\n",
              "<style scoped>\n",
              "    .dataframe tbody tr th:only-of-type {\n",
              "        vertical-align: middle;\n",
              "    }\n",
              "\n",
              "    .dataframe tbody tr th {\n",
              "        vertical-align: top;\n",
              "    }\n",
              "\n",
              "    .dataframe thead th {\n",
              "        text-align: right;\n",
              "    }\n",
              "</style>\n",
              "<table border=\"1\" class=\"dataframe\">\n",
              "  <thead>\n",
              "    <tr style=\"text-align: right;\">\n",
              "      <th></th>\n",
              "      <th>a</th>\n",
              "      <th>b</th>\n",
              "      <th>c</th>\n",
              "    </tr>\n",
              "  </thead>\n",
              "  <tbody>\n",
              "    <tr>\n",
              "      <th>voiture</th>\n",
              "      <td>1</td>\n",
              "      <td>2</td>\n",
              "      <td>8</td>\n",
              "    </tr>\n",
              "    <tr>\n",
              "      <th>vélo</th>\n",
              "      <td>2</td>\n",
              "      <td>4</td>\n",
              "      <td>9</td>\n",
              "    </tr>\n",
              "    <tr>\n",
              "      <th>trottinette</th>\n",
              "      <td>3</td>\n",
              "      <td>6</td>\n",
              "      <td>10</td>\n",
              "    </tr>\n",
              "  </tbody>\n",
              "</table>\n",
              "</div>"
            ],
            "text/plain": [
              "             a  b   c\n",
              "voiture      1  2   8\n",
              "vélo         2  4   9\n",
              "trottinette  3  6  10"
            ]
          },
          "metadata": {},
          "execution_count": 3
        }
      ]
    },
    {
      "cell_type": "code",
      "metadata": {
        "colab": {
          "base_uri": "https://localhost:8080/"
        },
        "id": "hrez4y2UXHGC",
        "outputId": "d7cae567-ad15-46ae-817b-eae2bfd1954f"
      },
      "source": [
        "from google.colab import drive\n",
        "drive.mount('/content/gdrive')\n",
        "import os"
      ],
      "execution_count": 4,
      "outputs": [
        {
          "output_type": "stream",
          "name": "stdout",
          "text": [
            "Mounted at /content/gdrive\n"
          ]
        }
      ]
    },
    {
      "cell_type": "code",
      "metadata": {
        "id": "cyDqQ36KTyH3"
      },
      "source": [
        "os.chdir(\"/content/gdrive/My Drive/EDX Data Science for Construction, Architecture and Engineering/2 - Building Design - Intro to Pandas/simulation_data\")"
      ],
      "execution_count": 5,
      "outputs": []
    },
    {
      "cell_type": "code",
      "metadata": {
        "colab": {
          "base_uri": "https://localhost:8080/"
        },
        "id": "Y3RUNVuLT7NY",
        "outputId": "7bcb8436-1bb8-44b8-e58c-41282ebe916c"
      },
      "source": [
        "ls"
      ],
      "execution_count": 6,
      "outputs": [
        {
          "output_type": "stream",
          "name": "stdout",
          "text": [
            " Baseline.csv                      'Scenario - Increase Setpoint.csv'\n",
            " Baseline.gsheet                   'Scenario - Low-E Glass.csv'\n",
            "'Scenario - Aircon Schedules.csv'  'Scenario - Rooftop Gardens.csv'\n",
            "'Scenario - Cool roof.csv'\n"
          ]
        }
      ]
    },
    {
      "cell_type": "code",
      "metadata": {
        "id": "DpG1uJVLUM-O"
      },
      "source": [
        "df = pd.DataFrame(\n",
        "[[4, 7, 10],\n",
        "[5, 8, 11],\n",
        "[6, 9, 12]],\n",
        "index=[1, 2, 3],\n",
        "columns=['a', 'b', 'c'])"
      ],
      "execution_count": 7,
      "outputs": []
    },
    {
      "cell_type": "code",
      "metadata": {
        "colab": {
          "base_uri": "https://localhost:8080/",
          "height": 142
        },
        "id": "CNtzUuEHUOKv",
        "outputId": "dbaab2ef-e4f7-4ba3-c331-3ade6ab71166"
      },
      "source": [
        "df"
      ],
      "execution_count": 8,
      "outputs": [
        {
          "output_type": "execute_result",
          "data": {
            "text/html": [
              "<div>\n",
              "<style scoped>\n",
              "    .dataframe tbody tr th:only-of-type {\n",
              "        vertical-align: middle;\n",
              "    }\n",
              "\n",
              "    .dataframe tbody tr th {\n",
              "        vertical-align: top;\n",
              "    }\n",
              "\n",
              "    .dataframe thead th {\n",
              "        text-align: right;\n",
              "    }\n",
              "</style>\n",
              "<table border=\"1\" class=\"dataframe\">\n",
              "  <thead>\n",
              "    <tr style=\"text-align: right;\">\n",
              "      <th></th>\n",
              "      <th>a</th>\n",
              "      <th>b</th>\n",
              "      <th>c</th>\n",
              "    </tr>\n",
              "  </thead>\n",
              "  <tbody>\n",
              "    <tr>\n",
              "      <th>1</th>\n",
              "      <td>4</td>\n",
              "      <td>7</td>\n",
              "      <td>10</td>\n",
              "    </tr>\n",
              "    <tr>\n",
              "      <th>2</th>\n",
              "      <td>5</td>\n",
              "      <td>8</td>\n",
              "      <td>11</td>\n",
              "    </tr>\n",
              "    <tr>\n",
              "      <th>3</th>\n",
              "      <td>6</td>\n",
              "      <td>9</td>\n",
              "      <td>12</td>\n",
              "    </tr>\n",
              "  </tbody>\n",
              "</table>\n",
              "</div>"
            ],
            "text/plain": [
              "   a  b   c\n",
              "1  4  7  10\n",
              "2  5  8  11\n",
              "3  6  9  12"
            ]
          },
          "metadata": {},
          "execution_count": 8
        }
      ]
    },
    {
      "cell_type": "code",
      "metadata": {
        "id": "kCh29CEOUbWg"
      },
      "source": [
        "baseline_data = pd.read_csv('Baseline.csv',index_col='Month')"
      ],
      "execution_count": 9,
      "outputs": []
    },
    {
      "cell_type": "code",
      "metadata": {
        "colab": {
          "base_uri": "https://localhost:8080/",
          "height": 450
        },
        "id": "M8DaF2y4UqQw",
        "outputId": "e369fa88-e256-43c1-d644-f6d3c56a3fbd"
      },
      "source": [
        "baseline_data"
      ],
      "execution_count": 10,
      "outputs": [
        {
          "output_type": "execute_result",
          "data": {
            "text/html": [
              "<div>\n",
              "<style scoped>\n",
              "    .dataframe tbody tr th:only-of-type {\n",
              "        vertical-align: middle;\n",
              "    }\n",
              "\n",
              "    .dataframe tbody tr th {\n",
              "        vertical-align: top;\n",
              "    }\n",
              "\n",
              "    .dataframe thead th {\n",
              "        text-align: right;\n",
              "    }\n",
              "</style>\n",
              "<table border=\"1\" class=\"dataframe\">\n",
              "  <thead>\n",
              "    <tr style=\"text-align: right;\">\n",
              "      <th></th>\n",
              "      <th>Baseline</th>\n",
              "    </tr>\n",
              "    <tr>\n",
              "      <th>Month</th>\n",
              "      <th></th>\n",
              "    </tr>\n",
              "  </thead>\n",
              "  <tbody>\n",
              "    <tr>\n",
              "      <th>January</th>\n",
              "      <td>5.69</td>\n",
              "    </tr>\n",
              "    <tr>\n",
              "      <th>February</th>\n",
              "      <td>6.75</td>\n",
              "    </tr>\n",
              "    <tr>\n",
              "      <th>March</th>\n",
              "      <td>10.64</td>\n",
              "    </tr>\n",
              "    <tr>\n",
              "      <th>April</th>\n",
              "      <td>13.60</td>\n",
              "    </tr>\n",
              "    <tr>\n",
              "      <th>May</th>\n",
              "      <td>19.34</td>\n",
              "    </tr>\n",
              "    <tr>\n",
              "      <th>June</th>\n",
              "      <td>22.64</td>\n",
              "    </tr>\n",
              "    <tr>\n",
              "      <th>July</th>\n",
              "      <td>27.02</td>\n",
              "    </tr>\n",
              "    <tr>\n",
              "      <th>August</th>\n",
              "      <td>27.13</td>\n",
              "    </tr>\n",
              "    <tr>\n",
              "      <th>September</th>\n",
              "      <td>25.04</td>\n",
              "    </tr>\n",
              "    <tr>\n",
              "      <th>October</th>\n",
              "      <td>18.47</td>\n",
              "    </tr>\n",
              "    <tr>\n",
              "      <th>November</th>\n",
              "      <td>13.02</td>\n",
              "    </tr>\n",
              "    <tr>\n",
              "      <th>December</th>\n",
              "      <td>7.53</td>\n",
              "    </tr>\n",
              "  </tbody>\n",
              "</table>\n",
              "</div>"
            ],
            "text/plain": [
              "           Baseline\n",
              "Month              \n",
              "January        5.69\n",
              "February       6.75\n",
              "March         10.64\n",
              "April         13.60\n",
              "May           19.34\n",
              "June          22.64\n",
              "July          27.02\n",
              "August        27.13\n",
              "September     25.04\n",
              "October       18.47\n",
              "November      13.02\n",
              "December       7.53"
            ]
          },
          "metadata": {},
          "execution_count": 10
        }
      ]
    },
    {
      "cell_type": "code",
      "metadata": {
        "colab": {
          "base_uri": "https://localhost:8080/"
        },
        "id": "YlSCd5V3V5tC",
        "outputId": "adf0a0dd-b0dc-45a6-a5e9-b3c448c34005"
      },
      "source": [
        "baseline_data.index"
      ],
      "execution_count": 11,
      "outputs": [
        {
          "output_type": "execute_result",
          "data": {
            "text/plain": [
              "Index(['January', 'February', 'March', 'April', 'May', 'June', 'July',\n",
              "       'August', 'September', 'October', 'November', 'December'],\n",
              "      dtype='object', name='Month')"
            ]
          },
          "metadata": {},
          "execution_count": 11
        }
      ]
    },
    {
      "cell_type": "code",
      "metadata": {
        "colab": {
          "base_uri": "https://localhost:8080/"
        },
        "id": "EXWPhU7rV87-",
        "outputId": "93ba0903-1812-487c-9e6b-39589f1bf906"
      },
      "source": [
        "baseline_data.columns"
      ],
      "execution_count": 12,
      "outputs": [
        {
          "output_type": "execute_result",
          "data": {
            "text/plain": [
              "Index(['Baseline'], dtype='object')"
            ]
          },
          "metadata": {},
          "execution_count": 12
        }
      ]
    },
    {
      "cell_type": "code",
      "metadata": {
        "colab": {
          "base_uri": "https://localhost:8080/"
        },
        "id": "LhuGNdgqWL4a",
        "outputId": "f6ad2462-29e2-43da-fbef-5d4d87ce6e17"
      },
      "source": [
        "baseline_data.info()"
      ],
      "execution_count": 13,
      "outputs": [
        {
          "output_type": "stream",
          "name": "stdout",
          "text": [
            "<class 'pandas.core.frame.DataFrame'>\n",
            "Index: 12 entries, January to December\n",
            "Data columns (total 1 columns):\n",
            " #   Column    Non-Null Count  Dtype  \n",
            "---  ------    --------------  -----  \n",
            " 0   Baseline  12 non-null     float64\n",
            "dtypes: float64(1)\n",
            "memory usage: 192.0+ bytes\n"
          ]
        }
      ]
    },
    {
      "cell_type": "code",
      "metadata": {
        "colab": {
          "base_uri": "https://localhost:8080/"
        },
        "id": "JejmD8QSGN-a",
        "outputId": "7e5f91a0-740f-4081-c328-4c1979bbde74"
      },
      "source": [
        "baseline_data.Baseline"
      ],
      "execution_count": 15,
      "outputs": [
        {
          "output_type": "execute_result",
          "data": {
            "text/plain": [
              "Month\n",
              "January       5.69\n",
              "February      6.75\n",
              "March        10.64\n",
              "April        13.60\n",
              "May          19.34\n",
              "June         22.64\n",
              "July         27.02\n",
              "August       27.13\n",
              "September    25.04\n",
              "October      18.47\n",
              "November     13.02\n",
              "December      7.53\n",
              "Name: Baseline, dtype: float64"
            ]
          },
          "metadata": {},
          "execution_count": 15
        }
      ]
    },
    {
      "cell_type": "code",
      "metadata": {
        "colab": {
          "base_uri": "https://localhost:8080/",
          "height": 172
        },
        "id": "cInwpWGXGZQI",
        "outputId": "c5160527-f02a-4fad-f78d-3d765da50388"
      },
      "source": [
        "baseline_data[baseline_data['Baseline'] < 10]"
      ],
      "execution_count": 20,
      "outputs": [
        {
          "output_type": "execute_result",
          "data": {
            "text/html": [
              "<div>\n",
              "<style scoped>\n",
              "    .dataframe tbody tr th:only-of-type {\n",
              "        vertical-align: middle;\n",
              "    }\n",
              "\n",
              "    .dataframe tbody tr th {\n",
              "        vertical-align: top;\n",
              "    }\n",
              "\n",
              "    .dataframe thead th {\n",
              "        text-align: right;\n",
              "    }\n",
              "</style>\n",
              "<table border=\"1\" class=\"dataframe\">\n",
              "  <thead>\n",
              "    <tr style=\"text-align: right;\">\n",
              "      <th></th>\n",
              "      <th>Baseline</th>\n",
              "    </tr>\n",
              "    <tr>\n",
              "      <th>Month</th>\n",
              "      <th></th>\n",
              "    </tr>\n",
              "  </thead>\n",
              "  <tbody>\n",
              "    <tr>\n",
              "      <th>January</th>\n",
              "      <td>5.69</td>\n",
              "    </tr>\n",
              "    <tr>\n",
              "      <th>February</th>\n",
              "      <td>6.75</td>\n",
              "    </tr>\n",
              "    <tr>\n",
              "      <th>December</th>\n",
              "      <td>7.53</td>\n",
              "    </tr>\n",
              "  </tbody>\n",
              "</table>\n",
              "</div>"
            ],
            "text/plain": [
              "          Baseline\n",
              "Month             \n",
              "January       5.69\n",
              "February      6.75\n",
              "December      7.53"
            ]
          },
          "metadata": {},
          "execution_count": 20
        }
      ]
    },
    {
      "cell_type": "markdown",
      "metadata": {
        "id": "HyBCWoOYHUhY"
      },
      "source": [
        "##Sort by values"
      ]
    },
    {
      "cell_type": "code",
      "metadata": {
        "colab": {
          "base_uri": "https://localhost:8080/",
          "height": 450
        },
        "id": "xI4Q88o_HE4w",
        "outputId": "d8db7bc4-7fbd-49d3-927f-7a4335dfb956"
      },
      "source": [
        "baseline_data.sort_values('Baseline')"
      ],
      "execution_count": 24,
      "outputs": [
        {
          "output_type": "execute_result",
          "data": {
            "text/html": [
              "<div>\n",
              "<style scoped>\n",
              "    .dataframe tbody tr th:only-of-type {\n",
              "        vertical-align: middle;\n",
              "    }\n",
              "\n",
              "    .dataframe tbody tr th {\n",
              "        vertical-align: top;\n",
              "    }\n",
              "\n",
              "    .dataframe thead th {\n",
              "        text-align: right;\n",
              "    }\n",
              "</style>\n",
              "<table border=\"1\" class=\"dataframe\">\n",
              "  <thead>\n",
              "    <tr style=\"text-align: right;\">\n",
              "      <th></th>\n",
              "      <th>Baseline</th>\n",
              "    </tr>\n",
              "    <tr>\n",
              "      <th>Month</th>\n",
              "      <th></th>\n",
              "    </tr>\n",
              "  </thead>\n",
              "  <tbody>\n",
              "    <tr>\n",
              "      <th>January</th>\n",
              "      <td>5.69</td>\n",
              "    </tr>\n",
              "    <tr>\n",
              "      <th>February</th>\n",
              "      <td>6.75</td>\n",
              "    </tr>\n",
              "    <tr>\n",
              "      <th>December</th>\n",
              "      <td>7.53</td>\n",
              "    </tr>\n",
              "    <tr>\n",
              "      <th>March</th>\n",
              "      <td>10.64</td>\n",
              "    </tr>\n",
              "    <tr>\n",
              "      <th>November</th>\n",
              "      <td>13.02</td>\n",
              "    </tr>\n",
              "    <tr>\n",
              "      <th>April</th>\n",
              "      <td>13.60</td>\n",
              "    </tr>\n",
              "    <tr>\n",
              "      <th>October</th>\n",
              "      <td>18.47</td>\n",
              "    </tr>\n",
              "    <tr>\n",
              "      <th>May</th>\n",
              "      <td>19.34</td>\n",
              "    </tr>\n",
              "    <tr>\n",
              "      <th>June</th>\n",
              "      <td>22.64</td>\n",
              "    </tr>\n",
              "    <tr>\n",
              "      <th>September</th>\n",
              "      <td>25.04</td>\n",
              "    </tr>\n",
              "    <tr>\n",
              "      <th>July</th>\n",
              "      <td>27.02</td>\n",
              "    </tr>\n",
              "    <tr>\n",
              "      <th>August</th>\n",
              "      <td>27.13</td>\n",
              "    </tr>\n",
              "  </tbody>\n",
              "</table>\n",
              "</div>"
            ],
            "text/plain": [
              "           Baseline\n",
              "Month              \n",
              "January        5.69\n",
              "February       6.75\n",
              "December       7.53\n",
              "March         10.64\n",
              "November      13.02\n",
              "April         13.60\n",
              "October       18.47\n",
              "May           19.34\n",
              "June          22.64\n",
              "September     25.04\n",
              "July          27.02\n",
              "August        27.13"
            ]
          },
          "metadata": {},
          "execution_count": 24
        }
      ]
    },
    {
      "cell_type": "markdown",
      "metadata": {
        "id": "UhPC3x4zHi2L"
      },
      "source": [
        "##Sort by index"
      ]
    },
    {
      "cell_type": "code",
      "metadata": {
        "colab": {
          "base_uri": "https://localhost:8080/",
          "height": 450
        },
        "id": "lj2wOxumHOIo",
        "outputId": "3a0279db-2036-49a5-c9e6-104690feabb7"
      },
      "source": [
        "baseline_data.sort_index()"
      ],
      "execution_count": 25,
      "outputs": [
        {
          "output_type": "execute_result",
          "data": {
            "text/html": [
              "<div>\n",
              "<style scoped>\n",
              "    .dataframe tbody tr th:only-of-type {\n",
              "        vertical-align: middle;\n",
              "    }\n",
              "\n",
              "    .dataframe tbody tr th {\n",
              "        vertical-align: top;\n",
              "    }\n",
              "\n",
              "    .dataframe thead th {\n",
              "        text-align: right;\n",
              "    }\n",
              "</style>\n",
              "<table border=\"1\" class=\"dataframe\">\n",
              "  <thead>\n",
              "    <tr style=\"text-align: right;\">\n",
              "      <th></th>\n",
              "      <th>Baseline</th>\n",
              "    </tr>\n",
              "    <tr>\n",
              "      <th>Month</th>\n",
              "      <th></th>\n",
              "    </tr>\n",
              "  </thead>\n",
              "  <tbody>\n",
              "    <tr>\n",
              "      <th>April</th>\n",
              "      <td>13.60</td>\n",
              "    </tr>\n",
              "    <tr>\n",
              "      <th>August</th>\n",
              "      <td>27.13</td>\n",
              "    </tr>\n",
              "    <tr>\n",
              "      <th>December</th>\n",
              "      <td>7.53</td>\n",
              "    </tr>\n",
              "    <tr>\n",
              "      <th>February</th>\n",
              "      <td>6.75</td>\n",
              "    </tr>\n",
              "    <tr>\n",
              "      <th>January</th>\n",
              "      <td>5.69</td>\n",
              "    </tr>\n",
              "    <tr>\n",
              "      <th>July</th>\n",
              "      <td>27.02</td>\n",
              "    </tr>\n",
              "    <tr>\n",
              "      <th>June</th>\n",
              "      <td>22.64</td>\n",
              "    </tr>\n",
              "    <tr>\n",
              "      <th>March</th>\n",
              "      <td>10.64</td>\n",
              "    </tr>\n",
              "    <tr>\n",
              "      <th>May</th>\n",
              "      <td>19.34</td>\n",
              "    </tr>\n",
              "    <tr>\n",
              "      <th>November</th>\n",
              "      <td>13.02</td>\n",
              "    </tr>\n",
              "    <tr>\n",
              "      <th>October</th>\n",
              "      <td>18.47</td>\n",
              "    </tr>\n",
              "    <tr>\n",
              "      <th>September</th>\n",
              "      <td>25.04</td>\n",
              "    </tr>\n",
              "  </tbody>\n",
              "</table>\n",
              "</div>"
            ],
            "text/plain": [
              "           Baseline\n",
              "Month              \n",
              "April         13.60\n",
              "August        27.13\n",
              "December       7.53\n",
              "February       6.75\n",
              "January        5.69\n",
              "July          27.02\n",
              "June          22.64\n",
              "March         10.64\n",
              "May           19.34\n",
              "November      13.02\n",
              "October       18.47\n",
              "September     25.04"
            ]
          },
          "metadata": {},
          "execution_count": 25
        }
      ]
    },
    {
      "cell_type": "markdown",
      "metadata": {
        "id": "aU_BHPboHoqq"
      },
      "source": [
        "##Select n random values from the table"
      ]
    },
    {
      "cell_type": "code",
      "metadata": {
        "colab": {
          "base_uri": "https://localhost:8080/",
          "height": 265
        },
        "id": "AaYduorVG3w4",
        "outputId": "c3b920a4-ce99-4aa3-90fc-8c8da58cdb9d"
      },
      "source": [
        "baseline_data.sample(n=6)"
      ],
      "execution_count": 23,
      "outputs": [
        {
          "output_type": "execute_result",
          "data": {
            "text/html": [
              "<div>\n",
              "<style scoped>\n",
              "    .dataframe tbody tr th:only-of-type {\n",
              "        vertical-align: middle;\n",
              "    }\n",
              "\n",
              "    .dataframe tbody tr th {\n",
              "        vertical-align: top;\n",
              "    }\n",
              "\n",
              "    .dataframe thead th {\n",
              "        text-align: right;\n",
              "    }\n",
              "</style>\n",
              "<table border=\"1\" class=\"dataframe\">\n",
              "  <thead>\n",
              "    <tr style=\"text-align: right;\">\n",
              "      <th></th>\n",
              "      <th>Baseline</th>\n",
              "    </tr>\n",
              "    <tr>\n",
              "      <th>Month</th>\n",
              "      <th></th>\n",
              "    </tr>\n",
              "  </thead>\n",
              "  <tbody>\n",
              "    <tr>\n",
              "      <th>November</th>\n",
              "      <td>13.02</td>\n",
              "    </tr>\n",
              "    <tr>\n",
              "      <th>August</th>\n",
              "      <td>27.13</td>\n",
              "    </tr>\n",
              "    <tr>\n",
              "      <th>March</th>\n",
              "      <td>10.64</td>\n",
              "    </tr>\n",
              "    <tr>\n",
              "      <th>December</th>\n",
              "      <td>7.53</td>\n",
              "    </tr>\n",
              "    <tr>\n",
              "      <th>October</th>\n",
              "      <td>18.47</td>\n",
              "    </tr>\n",
              "    <tr>\n",
              "      <th>June</th>\n",
              "      <td>22.64</td>\n",
              "    </tr>\n",
              "  </tbody>\n",
              "</table>\n",
              "</div>"
            ],
            "text/plain": [
              "          Baseline\n",
              "Month             \n",
              "November     13.02\n",
              "August       27.13\n",
              "March        10.64\n",
              "December      7.53\n",
              "October      18.47\n",
              "June         22.64"
            ]
          },
          "metadata": {},
          "execution_count": 23
        }
      ]
    },
    {
      "cell_type": "code",
      "metadata": {
        "colab": {
          "base_uri": "https://localhost:8080/",
          "height": 450
        },
        "id": "CK48fi3jHxug",
        "outputId": "df0d8db0-7c22-470a-8e5c-524f0b5ed828"
      },
      "source": [
        "baseline_data.rename(columns={'Baseline':'Baseline Cooling Consumption in GWh'})"
      ],
      "execution_count": 26,
      "outputs": [
        {
          "output_type": "execute_result",
          "data": {
            "text/html": [
              "<div>\n",
              "<style scoped>\n",
              "    .dataframe tbody tr th:only-of-type {\n",
              "        vertical-align: middle;\n",
              "    }\n",
              "\n",
              "    .dataframe tbody tr th {\n",
              "        vertical-align: top;\n",
              "    }\n",
              "\n",
              "    .dataframe thead th {\n",
              "        text-align: right;\n",
              "    }\n",
              "</style>\n",
              "<table border=\"1\" class=\"dataframe\">\n",
              "  <thead>\n",
              "    <tr style=\"text-align: right;\">\n",
              "      <th></th>\n",
              "      <th>Baseline Cooling Consumption in GWh</th>\n",
              "    </tr>\n",
              "    <tr>\n",
              "      <th>Month</th>\n",
              "      <th></th>\n",
              "    </tr>\n",
              "  </thead>\n",
              "  <tbody>\n",
              "    <tr>\n",
              "      <th>January</th>\n",
              "      <td>5.69</td>\n",
              "    </tr>\n",
              "    <tr>\n",
              "      <th>February</th>\n",
              "      <td>6.75</td>\n",
              "    </tr>\n",
              "    <tr>\n",
              "      <th>March</th>\n",
              "      <td>10.64</td>\n",
              "    </tr>\n",
              "    <tr>\n",
              "      <th>April</th>\n",
              "      <td>13.60</td>\n",
              "    </tr>\n",
              "    <tr>\n",
              "      <th>May</th>\n",
              "      <td>19.34</td>\n",
              "    </tr>\n",
              "    <tr>\n",
              "      <th>June</th>\n",
              "      <td>22.64</td>\n",
              "    </tr>\n",
              "    <tr>\n",
              "      <th>July</th>\n",
              "      <td>27.02</td>\n",
              "    </tr>\n",
              "    <tr>\n",
              "      <th>August</th>\n",
              "      <td>27.13</td>\n",
              "    </tr>\n",
              "    <tr>\n",
              "      <th>September</th>\n",
              "      <td>25.04</td>\n",
              "    </tr>\n",
              "    <tr>\n",
              "      <th>October</th>\n",
              "      <td>18.47</td>\n",
              "    </tr>\n",
              "    <tr>\n",
              "      <th>November</th>\n",
              "      <td>13.02</td>\n",
              "    </tr>\n",
              "    <tr>\n",
              "      <th>December</th>\n",
              "      <td>7.53</td>\n",
              "    </tr>\n",
              "  </tbody>\n",
              "</table>\n",
              "</div>"
            ],
            "text/plain": [
              "           Baseline Cooling Consumption in GWh\n",
              "Month                                         \n",
              "January                                   5.69\n",
              "February                                  6.75\n",
              "March                                    10.64\n",
              "April                                    13.60\n",
              "May                                      19.34\n",
              "June                                     22.64\n",
              "July                                     27.02\n",
              "August                                   27.13\n",
              "September                                25.04\n",
              "October                                  18.47\n",
              "November                                 13.02\n",
              "December                                  7.53"
            ]
          },
          "metadata": {},
          "execution_count": 26
        }
      ]
    },
    {
      "cell_type": "code",
      "metadata": {
        "colab": {
          "base_uri": "https://localhost:8080/",
          "height": 313
        },
        "id": "-cLyKQzaIGuI",
        "outputId": "628f5810-524f-4b7a-b4a0-988f516b2298"
      },
      "source": [
        "baseline_data.columns.name = 'Scenario'\n",
        "baseline_data.index.name = 'Months of the Year'\n",
        "baseline_data.plot(lw=2, colormap='jet', marker='.', markersize=10, \n",
        "        title='Cooling Energy Consumption of Baseline Building in Total GWh')"
      ],
      "execution_count": 34,
      "outputs": [
        {
          "output_type": "execute_result",
          "data": {
            "text/plain": [
              "<matplotlib.axes._subplots.AxesSubplot at 0x7faa80456790>"
            ]
          },
          "metadata": {},
          "execution_count": 34
        },
        {
          "output_type": "display_data",
          "data": {
            "image/png": "[encoded data removed]",
            "text/plain": [
              "<Figure size 432x288 with 1 Axes>"
            ]
          },
          "metadata": {
            "needs_background": "light"
          }
        }
      ]
    },
    {
      "cell_type": "markdown",
      "metadata": {
        "id": "ErmqbM5MJkxW"
      },
      "source": [
        "##Analyze the cooling system within opening hours"
      ]
    },
    {
      "cell_type": "code",
      "metadata": {
        "id": "rq935bKnJTfp"
      },
      "source": [
        "schedule_scenario = pd.read_csv(\"Scenario - Aircon Schedules.csv\", index_col=\"Month\")"
      ],
      "execution_count": 36,
      "outputs": []
    },
    {
      "cell_type": "code",
      "metadata": {
        "colab": {
          "base_uri": "https://localhost:8080/",
          "height": 450
        },
        "id": "u6XGneu5JZi5",
        "outputId": "f72c1724-ac79-4451-f643-43d21d4fa59c"
      },
      "source": [
        "schedule_scenario"
      ],
      "execution_count": 37,
      "outputs": [
        {
          "output_type": "execute_result",
          "data": {
            "text/html": [
              "<div>\n",
              "<style scoped>\n",
              "    .dataframe tbody tr th:only-of-type {\n",
              "        vertical-align: middle;\n",
              "    }\n",
              "\n",
              "    .dataframe tbody tr th {\n",
              "        vertical-align: top;\n",
              "    }\n",
              "\n",
              "    .dataframe thead th {\n",
              "        text-align: right;\n",
              "    }\n",
              "</style>\n",
              "<table border=\"1\" class=\"dataframe\">\n",
              "  <thead>\n",
              "    <tr style=\"text-align: right;\">\n",
              "      <th></th>\n",
              "      <th>Scenario - Aircon Schedules</th>\n",
              "    </tr>\n",
              "    <tr>\n",
              "      <th>Month</th>\n",
              "      <th></th>\n",
              "    </tr>\n",
              "  </thead>\n",
              "  <tbody>\n",
              "    <tr>\n",
              "      <th>January</th>\n",
              "      <td>5.61</td>\n",
              "    </tr>\n",
              "    <tr>\n",
              "      <th>February</th>\n",
              "      <td>6.50</td>\n",
              "    </tr>\n",
              "    <tr>\n",
              "      <th>March</th>\n",
              "      <td>9.70</td>\n",
              "    </tr>\n",
              "    <tr>\n",
              "      <th>April</th>\n",
              "      <td>11.95</td>\n",
              "    </tr>\n",
              "    <tr>\n",
              "      <th>May</th>\n",
              "      <td>16.52</td>\n",
              "    </tr>\n",
              "    <tr>\n",
              "      <th>June</th>\n",
              "      <td>18.89</td>\n",
              "    </tr>\n",
              "    <tr>\n",
              "      <th>July</th>\n",
              "      <td>22.13</td>\n",
              "    </tr>\n",
              "    <tr>\n",
              "      <th>August</th>\n",
              "      <td>22.14</td>\n",
              "    </tr>\n",
              "    <tr>\n",
              "      <th>September</th>\n",
              "      <td>20.38</td>\n",
              "    </tr>\n",
              "    <tr>\n",
              "      <th>October</th>\n",
              "      <td>15.87</td>\n",
              "    </tr>\n",
              "    <tr>\n",
              "      <th>November</th>\n",
              "      <td>11.71</td>\n",
              "    </tr>\n",
              "    <tr>\n",
              "      <th>December</th>\n",
              "      <td>7.16</td>\n",
              "    </tr>\n",
              "  </tbody>\n",
              "</table>\n",
              "</div>"
            ],
            "text/plain": [
              "           Scenario - Aircon Schedules\n",
              "Month                                 \n",
              "January                           5.61\n",
              "February                          6.50\n",
              "March                             9.70\n",
              "April                            11.95\n",
              "May                              16.52\n",
              "June                             18.89\n",
              "July                             22.13\n",
              "August                           22.14\n",
              "September                        20.38\n",
              "October                          15.87\n",
              "November                         11.71\n",
              "December                          7.16"
            ]
          },
          "metadata": {},
          "execution_count": 37
        }
      ]
    },
    {
      "cell_type": "markdown",
      "metadata": {
        "id": "xJyCkeNOJ0-R"
      },
      "source": [
        "Looks like the Schedule scenario uses less energy than the baseline - let's confirm this by combining the two DataFrames using the .concat() function"
      ]
    },
    {
      "cell_type": "code",
      "metadata": {
        "colab": {
          "base_uri": "https://localhost:8080/",
          "height": 450
        },
        "id": "ZvaWzNemKZIS",
        "outputId": "aebdb040-e6b5-4a24-e136-a592ff86638b"
      },
      "source": [
        "schedule_scenario.rename(columns={'Scenario - Aircon Schedules':'Cooling System when opening'})"
      ],
      "execution_count": 45,
      "outputs": [
        {
          "output_type": "execute_result",
          "data": {
            "text/html": [
              "<div>\n",
              "<style scoped>\n",
              "    .dataframe tbody tr th:only-of-type {\n",
              "        vertical-align: middle;\n",
              "    }\n",
              "\n",
              "    .dataframe tbody tr th {\n",
              "        vertical-align: top;\n",
              "    }\n",
              "\n",
              "    .dataframe thead th {\n",
              "        text-align: right;\n",
              "    }\n",
              "</style>\n",
              "<table border=\"1\" class=\"dataframe\">\n",
              "  <thead>\n",
              "    <tr style=\"text-align: right;\">\n",
              "      <th>Cooling System when opening</th>\n",
              "      <th>Cooling System when opening</th>\n",
              "    </tr>\n",
              "    <tr>\n",
              "      <th>Month</th>\n",
              "      <th></th>\n",
              "    </tr>\n",
              "  </thead>\n",
              "  <tbody>\n",
              "    <tr>\n",
              "      <th>January</th>\n",
              "      <td>5.61</td>\n",
              "    </tr>\n",
              "    <tr>\n",
              "      <th>February</th>\n",
              "      <td>6.50</td>\n",
              "    </tr>\n",
              "    <tr>\n",
              "      <th>March</th>\n",
              "      <td>9.70</td>\n",
              "    </tr>\n",
              "    <tr>\n",
              "      <th>April</th>\n",
              "      <td>11.95</td>\n",
              "    </tr>\n",
              "    <tr>\n",
              "      <th>May</th>\n",
              "      <td>16.52</td>\n",
              "    </tr>\n",
              "    <tr>\n",
              "      <th>June</th>\n",
              "      <td>18.89</td>\n",
              "    </tr>\n",
              "    <tr>\n",
              "      <th>July</th>\n",
              "      <td>22.13</td>\n",
              "    </tr>\n",
              "    <tr>\n",
              "      <th>August</th>\n",
              "      <td>22.14</td>\n",
              "    </tr>\n",
              "    <tr>\n",
              "      <th>September</th>\n",
              "      <td>20.38</td>\n",
              "    </tr>\n",
              "    <tr>\n",
              "      <th>October</th>\n",
              "      <td>15.87</td>\n",
              "    </tr>\n",
              "    <tr>\n",
              "      <th>November</th>\n",
              "      <td>11.71</td>\n",
              "    </tr>\n",
              "    <tr>\n",
              "      <th>December</th>\n",
              "      <td>7.16</td>\n",
              "    </tr>\n",
              "  </tbody>\n",
              "</table>\n",
              "</div>"
            ],
            "text/plain": [
              "Cooling System when opening  Cooling System when opening\n",
              "Month                                                   \n",
              "January                                             5.61\n",
              "February                                            6.50\n",
              "March                                               9.70\n",
              "April                                              11.95\n",
              "May                                                16.52\n",
              "June                                               18.89\n",
              "July                                               22.13\n",
              "August                                             22.14\n",
              "September                                          20.38\n",
              "October                                            15.87\n",
              "November                                           11.71\n",
              "December                                            7.16"
            ]
          },
          "metadata": {},
          "execution_count": 45
        }
      ]
    },
    {
      "cell_type": "code",
      "metadata": {
        "id": "0Jk1RFAgJ6UV"
      },
      "source": [
        "combined_data = pd.concat([baseline_data, schedule_scenario], axis=1)"
      ],
      "execution_count": 46,
      "outputs": []
    },
    {
      "cell_type": "code",
      "metadata": {
        "colab": {
          "base_uri": "https://localhost:8080/",
          "height": 418
        },
        "id": "gt5iGlLlJ9vh",
        "outputId": "83c3cfd8-35ad-448e-e055-0f8f71f66aaa"
      },
      "source": [
        "combined_data"
      ],
      "execution_count": 47,
      "outputs": [
        {
          "output_type": "execute_result",
          "data": {
            "text/html": [
              "<div>\n",
              "<style scoped>\n",
              "    .dataframe tbody tr th:only-of-type {\n",
              "        vertical-align: middle;\n",
              "    }\n",
              "\n",
              "    .dataframe tbody tr th {\n",
              "        vertical-align: top;\n",
              "    }\n",
              "\n",
              "    .dataframe thead th {\n",
              "        text-align: right;\n",
              "    }\n",
              "</style>\n",
              "<table border=\"1\" class=\"dataframe\">\n",
              "  <thead>\n",
              "    <tr style=\"text-align: right;\">\n",
              "      <th></th>\n",
              "      <th>Baseline</th>\n",
              "      <th>Scenario - Aircon Schedules</th>\n",
              "    </tr>\n",
              "  </thead>\n",
              "  <tbody>\n",
              "    <tr>\n",
              "      <th>January</th>\n",
              "      <td>5.69</td>\n",
              "      <td>5.61</td>\n",
              "    </tr>\n",
              "    <tr>\n",
              "      <th>February</th>\n",
              "      <td>6.75</td>\n",
              "      <td>6.50</td>\n",
              "    </tr>\n",
              "    <tr>\n",
              "      <th>March</th>\n",
              "      <td>10.64</td>\n",
              "      <td>9.70</td>\n",
              "    </tr>\n",
              "    <tr>\n",
              "      <th>April</th>\n",
              "      <td>13.60</td>\n",
              "      <td>11.95</td>\n",
              "    </tr>\n",
              "    <tr>\n",
              "      <th>May</th>\n",
              "      <td>19.34</td>\n",
              "      <td>16.52</td>\n",
              "    </tr>\n",
              "    <tr>\n",
              "      <th>June</th>\n",
              "      <td>22.64</td>\n",
              "      <td>18.89</td>\n",
              "    </tr>\n",
              "    <tr>\n",
              "      <th>July</th>\n",
              "      <td>27.02</td>\n",
              "      <td>22.13</td>\n",
              "    </tr>\n",
              "    <tr>\n",
              "      <th>August</th>\n",
              "      <td>27.13</td>\n",
              "      <td>22.14</td>\n",
              "    </tr>\n",
              "    <tr>\n",
              "      <th>September</th>\n",
              "      <td>25.04</td>\n",
              "      <td>20.38</td>\n",
              "    </tr>\n",
              "    <tr>\n",
              "      <th>October</th>\n",
              "      <td>18.47</td>\n",
              "      <td>15.87</td>\n",
              "    </tr>\n",
              "    <tr>\n",
              "      <th>November</th>\n",
              "      <td>13.02</td>\n",
              "      <td>11.71</td>\n",
              "    </tr>\n",
              "    <tr>\n",
              "      <th>December</th>\n",
              "      <td>7.53</td>\n",
              "      <td>7.16</td>\n",
              "    </tr>\n",
              "  </tbody>\n",
              "</table>\n",
              "</div>"
            ],
            "text/plain": [
              "           Baseline  Scenario - Aircon Schedules\n",
              "January        5.69                         5.61\n",
              "February       6.75                         6.50\n",
              "March         10.64                         9.70\n",
              "April         13.60                        11.95\n",
              "May           19.34                        16.52\n",
              "June          22.64                        18.89\n",
              "July          27.02                        22.13\n",
              "August        27.13                        22.14\n",
              "September     25.04                        20.38\n",
              "October       18.47                        15.87\n",
              "November      13.02                        11.71\n",
              "December       7.53                         7.16"
            ]
          },
          "metadata": {},
          "execution_count": 47
        }
      ]
    },
    {
      "cell_type": "code",
      "metadata": {
        "colab": {
          "base_uri": "https://localhost:8080/",
          "height": 298
        },
        "id": "DvfIoNhHKEvR",
        "outputId": "a4b4cd70-0980-4e52-c9ef-6edbdb04e285"
      },
      "source": [
        "combined_data.plot(lw=2, colormap='jet', marker='.', markersize=10, \n",
        "        title='Cooling Energy Consumption of Baseline Building in Total GWh')"
      ],
      "execution_count": 48,
      "outputs": [
        {
          "output_type": "execute_result",
          "data": {
            "text/plain": [
              "<matplotlib.axes._subplots.AxesSubplot at 0x7faa80254e50>"
            ]
          },
          "metadata": {},
          "execution_count": 48
        },
        {
          "output_type": "display_data",
          "data": {
            "image/png": "[encoded data removed]",
            "text/plain": [
              "<Figure size 432x288 with 1 Axes>"
            ]
          },
          "metadata": {
            "needs_background": "light"
          }
        }
      ]
    },
    {
      "cell_type": "markdown",
      "metadata": {
        "id": "rDSOabBCLAyi"
      },
      "source": [
        "## Make New Columns to Find the Difference between the options\n",
        "\n",
        "Let's use a vector operation to create a new column to find the difference between the columns"
      ]
    },
    {
      "cell_type": "code",
      "metadata": {
        "colab": {
          "base_uri": "https://localhost:8080/",
          "height": 418
        },
        "id": "-6fh2MXELCJB",
        "outputId": "5a74d774-3f27-4436-8dc1-0359a12a795d"
      },
      "source": [
        "combined_data['Difference (GWh)'] = combined_data['Baseline'] - combined_data['Scenario - Aircon Schedules']\n",
        "combined_data"
      ],
      "execution_count": 55,
      "outputs": [
        {
          "output_type": "execute_result",
          "data": {
            "text/html": [
              "<div>\n",
              "<style scoped>\n",
              "    .dataframe tbody tr th:only-of-type {\n",
              "        vertical-align: middle;\n",
              "    }\n",
              "\n",
              "    .dataframe tbody tr th {\n",
              "        vertical-align: top;\n",
              "    }\n",
              "\n",
              "    .dataframe thead th {\n",
              "        text-align: right;\n",
              "    }\n",
              "</style>\n",
              "<table border=\"1\" class=\"dataframe\">\n",
              "  <thead>\n",
              "    <tr style=\"text-align: right;\">\n",
              "      <th></th>\n",
              "      <th>Baseline</th>\n",
              "      <th>Scenario - Aircon Schedules</th>\n",
              "      <th>Difference (GWh)</th>\n",
              "    </tr>\n",
              "  </thead>\n",
              "  <tbody>\n",
              "    <tr>\n",
              "      <th>January</th>\n",
              "      <td>5.69</td>\n",
              "      <td>5.61</td>\n",
              "      <td>0.08</td>\n",
              "    </tr>\n",
              "    <tr>\n",
              "      <th>February</th>\n",
              "      <td>6.75</td>\n",
              "      <td>6.50</td>\n",
              "      <td>0.25</td>\n",
              "    </tr>\n",
              "    <tr>\n",
              "      <th>March</th>\n",
              "      <td>10.64</td>\n",
              "      <td>9.70</td>\n",
              "      <td>0.94</td>\n",
              "    </tr>\n",
              "    <tr>\n",
              "      <th>April</th>\n",
              "      <td>13.60</td>\n",
              "      <td>11.95</td>\n",
              "      <td>1.65</td>\n",
              "    </tr>\n",
              "    <tr>\n",
              "      <th>May</th>\n",
              "      <td>19.34</td>\n",
              "      <td>16.52</td>\n",
              "      <td>2.82</td>\n",
              "    </tr>\n",
              "    <tr>\n",
              "      <th>June</th>\n",
              "      <td>22.64</td>\n",
              "      <td>18.89</td>\n",
              "      <td>3.75</td>\n",
              "    </tr>\n",
              "    <tr>\n",
              "      <th>July</th>\n",
              "      <td>27.02</td>\n",
              "      <td>22.13</td>\n",
              "      <td>4.89</td>\n",
              "    </tr>\n",
              "    <tr>\n",
              "      <th>August</th>\n",
              "      <td>27.13</td>\n",
              "      <td>22.14</td>\n",
              "      <td>4.99</td>\n",
              "    </tr>\n",
              "    <tr>\n",
              "      <th>September</th>\n",
              "      <td>25.04</td>\n",
              "      <td>20.38</td>\n",
              "      <td>4.66</td>\n",
              "    </tr>\n",
              "    <tr>\n",
              "      <th>October</th>\n",
              "      <td>18.47</td>\n",
              "      <td>15.87</td>\n",
              "      <td>2.60</td>\n",
              "    </tr>\n",
              "    <tr>\n",
              "      <th>November</th>\n",
              "      <td>13.02</td>\n",
              "      <td>11.71</td>\n",
              "      <td>1.31</td>\n",
              "    </tr>\n",
              "    <tr>\n",
              "      <th>December</th>\n",
              "      <td>7.53</td>\n",
              "      <td>7.16</td>\n",
              "      <td>0.37</td>\n",
              "    </tr>\n",
              "  </tbody>\n",
              "</table>\n",
              "</div>"
            ],
            "text/plain": [
              "           Baseline  Scenario - Aircon Schedules  Difference (GWh)\n",
              "January        5.69                         5.61              0.08\n",
              "February       6.75                         6.50              0.25\n",
              "March         10.64                         9.70              0.94\n",
              "April         13.60                        11.95              1.65\n",
              "May           19.34                        16.52              2.82\n",
              "June          22.64                        18.89              3.75\n",
              "July          27.02                        22.13              4.89\n",
              "August        27.13                        22.14              4.99\n",
              "September     25.04                        20.38              4.66\n",
              "October       18.47                        15.87              2.60\n",
              "November      13.02                        11.71              1.31\n",
              "December       7.53                         7.16              0.37"
            ]
          },
          "metadata": {},
          "execution_count": 55
        }
      ]
    },
    {
      "cell_type": "code",
      "metadata": {
        "colab": {
          "base_uri": "https://localhost:8080/",
          "height": 344
        },
        "id": "qpyx4XpoLShS",
        "outputId": "d7189c2f-7a57-406b-da1c-a4294c2c6b10"
      },
      "source": [
        "combined_data['Difference (GWh)'].plot.bar(title='Difference between Baseline and Improved Schedules in Total GWh')"
      ],
      "execution_count": 54,
      "outputs": [
        {
          "output_type": "execute_result",
          "data": {
            "text/plain": [
              "<matplotlib.axes._subplots.AxesSubplot at 0x7faa7ffcdb10>"
            ]
          },
          "metadata": {},
          "execution_count": 54
        },
        {
          "output_type": "display_data",
          "data": {
            "image/png": "[encoded data removed]",
            "text/plain": [
              "<Figure size 432x288 with 1 Axes>"
            ]
          },
          "metadata": {
            "needs_background": "light"
          }
        }
      ]
    },
    {
      "cell_type": "markdown",
      "metadata": {
        "id": "YZJ-9UT6McM6"
      },
      "source": [
        "## Define a *function* object to create a new column\n",
        "\n",
        "Let's say we only care to compare all the months except *July* -- we can define a function to calculate a new column"
      ]
    },
    {
      "cell_type": "code",
      "metadata": {
        "id": "_IhZzwehL8vb"
      },
      "source": [
        "def get_difference_conditional(monthly_data):\n",
        "  #print(monthly_data)\n",
        "  if monthly_data.name == 'July' or monthly_data.name =='August':\n",
        "    return 0\n",
        "  else:\n",
        "    return monthly_data['Baseline'] - monthly_data['Scenario - Aircon Schedules']"
      ],
      "execution_count": 63,
      "outputs": []
    },
    {
      "cell_type": "code",
      "metadata": {
        "id": "iI4BJ3h2MftJ"
      },
      "source": [
        "combined_data['Difference_NoJuly'] = combined_data.apply(lambda x: get_difference_conditional(x), axis=1)"
      ],
      "execution_count": 64,
      "outputs": []
    },
    {
      "cell_type": "code",
      "metadata": {
        "colab": {
          "base_uri": "https://localhost:8080/",
          "height": 344
        },
        "id": "8KDtm-XsMvmC",
        "outputId": "3e6a0be6-90f9-4480-e719-6f575a48012d"
      },
      "source": [
        "combined_data['Difference_NoJuly'].plot.bar(title='Difference between Baseline and Improved Schedules in Total GWh')"
      ],
      "execution_count": 65,
      "outputs": [
        {
          "output_type": "execute_result",
          "data": {
            "text/plain": [
              "<matplotlib.axes._subplots.AxesSubplot at 0x7faa800be150>"
            ]
          },
          "metadata": {},
          "execution_count": 65
        },
        {
          "output_type": "display_data",
          "data": {
            "image/png": "[encoded data removed]",
            "text/plain": [
              "<Figure size 432x288 with 1 Axes>"
            ]
          },
          "metadata": {
            "needs_background": "light"
          }
        }
      ]
    },
    {
      "cell_type": "markdown",
      "metadata": {
        "id": "-4uRqB7TORC2"
      },
      "source": [
        "##Compare several scenarios in the same time"
      ]
    },
    {
      "cell_type": "code",
      "metadata": {
        "colab": {
          "base_uri": "https://localhost:8080/"
        },
        "id": "66TV7E8gNZOR",
        "outputId": "313197c7-0bee-40f1-b9cc-0786d213e344"
      },
      "source": [
        "os.listdir"
      ],
      "execution_count": 66,
      "outputs": [
        {
          "output_type": "execute_result",
          "data": {
            "text/plain": [
              "<function posix.listdir>"
            ]
          },
          "metadata": {},
          "execution_count": 66
        }
      ]
    },
    {
      "cell_type": "code",
      "metadata": {
        "colab": {
          "base_uri": "https://localhost:8080/"
        },
        "id": "dbJjJcqaNbIC",
        "outputId": "79f10239-e5cd-4318-8aaf-199b03e2c690"
      },
      "source": [
        "ls"
      ],
      "execution_count": 67,
      "outputs": [
        {
          "output_type": "stream",
          "name": "stdout",
          "text": [
            " Baseline.csv                      'Scenario - Increase Setpoint.csv'\n",
            " Baseline.gsheet                   'Scenario - Low-E Glass.csv'\n",
            "'Scenario - Aircon Schedules.csv'  'Scenario - Rooftop Gardens.csv'\n",
            "'Scenario - Cool roof.csv'\n"
          ]
        }
      ]
    },
    {
      "cell_type": "code",
      "metadata": {
        "id": "S6m3GYnBNkGN"
      },
      "source": [
        "list_of_files = ['Scenario - Aircon Schedules.csv',\n",
        " 'Scenario - Cool roof.csv',\n",
        " 'Scenario - Rooftop Gardens.csv',\n",
        " 'Scenario - Increase Setpoint.csv',\n",
        " 'Scenario - Low-E Glass.csv',\n",
        " 'Baseline.csv']"
      ],
      "execution_count": 68,
      "outputs": []
    },
    {
      "cell_type": "code",
      "metadata": {
        "colab": {
          "base_uri": "https://localhost:8080/"
        },
        "id": "pHTPVKRnNnw8",
        "outputId": "e5731189-25c9-4cb8-fd9c-a4797e2a6345"
      },
      "source": [
        "data_container = []\n",
        "for filename in list_of_files:\n",
        "  print(filename)\n",
        "  df = pd.read_csv(filename, index_col='Month')\n",
        "  data_container.append(df)\n",
        "\n",
        "all_data = pd.concat(data_container, axis=1)"
      ],
      "execution_count": 71,
      "outputs": [
        {
          "output_type": "stream",
          "name": "stdout",
          "text": [
            "Scenario - Aircon Schedules.csv\n",
            "Scenario - Cool roof.csv\n",
            "Scenario - Rooftop Gardens.csv\n",
            "Scenario - Increase Setpoint.csv\n",
            "Scenario - Low-E Glass.csv\n",
            "Baseline.csv\n"
          ]
        }
      ]
    },
    {
      "cell_type": "code",
      "metadata": {
        "colab": {
          "base_uri": "https://localhost:8080/"
        },
        "id": "gRrJebLZN8Ji",
        "outputId": "c7aeb107-8e37-4c00-8efc-307a9e4700d4"
      },
      "source": [
        "all_data.info()"
      ],
      "execution_count": 73,
      "outputs": [
        {
          "output_type": "stream",
          "name": "stdout",
          "text": [
            "<class 'pandas.core.frame.DataFrame'>\n",
            "Index: 12 entries, January to December\n",
            "Data columns (total 6 columns):\n",
            " #   Column                        Non-Null Count  Dtype  \n",
            "---  ------                        --------------  -----  \n",
            " 0   Scenario - Aircon Schedules   12 non-null     float64\n",
            " 1   Scenario - Cool roof          12 non-null     float64\n",
            " 2   Scenario - Rooftop Gardens    12 non-null     float64\n",
            " 3   Scenario - Increase Setpoint  12 non-null     float64\n",
            " 4   Scenario - Low-E Glass        12 non-null     float64\n",
            " 5   Baseline                      12 non-null     float64\n",
            "dtypes: float64(6)\n",
            "memory usage: 992.0+ bytes\n"
          ]
        }
      ]
    },
    {
      "cell_type": "code",
      "metadata": {
        "colab": {
          "base_uri": "https://localhost:8080/",
          "height": 450
        },
        "id": "5heVjKXhOpE6",
        "outputId": "5059c01f-7cc2-4a9b-e2ab-2fb77ea29628"
      },
      "source": [
        "all_data"
      ],
      "execution_count": 84,
      "outputs": [
        {
          "output_type": "execute_result",
          "data": {
            "text/html": [
              "<div>\n",
              "<style scoped>\n",
              "    .dataframe tbody tr th:only-of-type {\n",
              "        vertical-align: middle;\n",
              "    }\n",
              "\n",
              "    .dataframe tbody tr th {\n",
              "        vertical-align: top;\n",
              "    }\n",
              "\n",
              "    .dataframe thead th {\n",
              "        text-align: right;\n",
              "    }\n",
              "</style>\n",
              "<table border=\"1\" class=\"dataframe\">\n",
              "  <thead>\n",
              "    <tr style=\"text-align: right;\">\n",
              "      <th></th>\n",
              "      <th>Scenario - Aircon Schedules</th>\n",
              "      <th>Scenario - Cool roof</th>\n",
              "      <th>Scenario - Rooftop Gardens</th>\n",
              "      <th>Scenario - Increase Setpoint</th>\n",
              "      <th>Scenario - Low-E Glass</th>\n",
              "      <th>Baseline</th>\n",
              "    </tr>\n",
              "    <tr>\n",
              "      <th>Month</th>\n",
              "      <th></th>\n",
              "      <th></th>\n",
              "      <th></th>\n",
              "      <th></th>\n",
              "      <th></th>\n",
              "      <th></th>\n",
              "    </tr>\n",
              "  </thead>\n",
              "  <tbody>\n",
              "    <tr>\n",
              "      <th>January</th>\n",
              "      <td>5.61</td>\n",
              "      <td>4.46</td>\n",
              "      <td>6.30</td>\n",
              "      <td>2.73</td>\n",
              "      <td>5.41</td>\n",
              "      <td>5.69</td>\n",
              "    </tr>\n",
              "    <tr>\n",
              "      <th>February</th>\n",
              "      <td>6.50</td>\n",
              "      <td>5.39</td>\n",
              "      <td>7.15</td>\n",
              "      <td>3.88</td>\n",
              "      <td>6.48</td>\n",
              "      <td>6.75</td>\n",
              "    </tr>\n",
              "    <tr>\n",
              "      <th>March</th>\n",
              "      <td>9.70</td>\n",
              "      <td>8.96</td>\n",
              "      <td>10.90</td>\n",
              "      <td>6.60</td>\n",
              "      <td>10.37</td>\n",
              "      <td>10.64</td>\n",
              "    </tr>\n",
              "    <tr>\n",
              "      <th>April</th>\n",
              "      <td>11.95</td>\n",
              "      <td>11.73</td>\n",
              "      <td>13.59</td>\n",
              "      <td>9.37</td>\n",
              "      <td>13.36</td>\n",
              "      <td>13.60</td>\n",
              "    </tr>\n",
              "    <tr>\n",
              "      <th>May</th>\n",
              "      <td>16.52</td>\n",
              "      <td>17.28</td>\n",
              "      <td>18.94</td>\n",
              "      <td>14.82</td>\n",
              "      <td>19.14</td>\n",
              "      <td>19.34</td>\n",
              "    </tr>\n",
              "    <tr>\n",
              "      <th>June</th>\n",
              "      <td>18.89</td>\n",
              "      <td>20.54</td>\n",
              "      <td>22.12</td>\n",
              "      <td>18.01</td>\n",
              "      <td>22.47</td>\n",
              "      <td>22.64</td>\n",
              "    </tr>\n",
              "    <tr>\n",
              "      <th>July</th>\n",
              "      <td>22.13</td>\n",
              "      <td>24.76</td>\n",
              "      <td>26.29</td>\n",
              "      <td>21.98</td>\n",
              "      <td>26.84</td>\n",
              "      <td>27.02</td>\n",
              "    </tr>\n",
              "    <tr>\n",
              "      <th>August</th>\n",
              "      <td>22.14</td>\n",
              "      <td>24.97</td>\n",
              "      <td>26.47</td>\n",
              "      <td>22.15</td>\n",
              "      <td>26.91</td>\n",
              "      <td>27.13</td>\n",
              "    </tr>\n",
              "    <tr>\n",
              "      <th>September</th>\n",
              "      <td>20.38</td>\n",
              "      <td>22.98</td>\n",
              "      <td>24.63</td>\n",
              "      <td>19.92</td>\n",
              "      <td>24.77</td>\n",
              "      <td>25.04</td>\n",
              "    </tr>\n",
              "    <tr>\n",
              "      <th>October</th>\n",
              "      <td>15.87</td>\n",
              "      <td>16.57</td>\n",
              "      <td>18.51</td>\n",
              "      <td>13.65</td>\n",
              "      <td>18.16</td>\n",
              "      <td>18.47</td>\n",
              "    </tr>\n",
              "    <tr>\n",
              "      <th>November</th>\n",
              "      <td>11.71</td>\n",
              "      <td>11.41</td>\n",
              "      <td>13.55</td>\n",
              "      <td>8.49</td>\n",
              "      <td>12.69</td>\n",
              "      <td>13.02</td>\n",
              "    </tr>\n",
              "    <tr>\n",
              "      <th>December</th>\n",
              "      <td>7.16</td>\n",
              "      <td>6.36</td>\n",
              "      <td>8.19</td>\n",
              "      <td>4.15</td>\n",
              "      <td>7.24</td>\n",
              "      <td>7.53</td>\n",
              "    </tr>\n",
              "  </tbody>\n",
              "</table>\n",
              "</div>"
            ],
            "text/plain": [
              "           Scenario - Aircon Schedules  ...  Baseline\n",
              "Month                                   ...          \n",
              "January                           5.61  ...      5.69\n",
              "February                          6.50  ...      6.75\n",
              "March                             9.70  ...     10.64\n",
              "April                            11.95  ...     13.60\n",
              "May                              16.52  ...     19.34\n",
              "June                             18.89  ...     22.64\n",
              "July                             22.13  ...     27.02\n",
              "August                           22.14  ...     27.13\n",
              "September                        20.38  ...     25.04\n",
              "October                          15.87  ...     18.47\n",
              "November                         11.71  ...     13.02\n",
              "December                          7.16  ...      7.53\n",
              "\n",
              "[12 rows x 6 columns]"
            ]
          },
          "metadata": {},
          "execution_count": 84
        }
      ]
    },
    {
      "cell_type": "code",
      "metadata": {
        "colab": {
          "base_uri": "https://localhost:8080/",
          "height": 530
        },
        "id": "WYceiT_ZOJNR",
        "outputId": "15dd312e-ecec-4836-feb7-6f3373039606"
      },
      "source": [
        "all_data.plot(lw=2, colormap='jet', marker='.', markersize=10, \n",
        "        title='Cooling Energy Consumption of Baseline Building in Total GWh', figsize=(15,8))"
      ],
      "execution_count": 85,
      "outputs": [
        {
          "output_type": "execute_result",
          "data": {
            "text/plain": [
              "<matplotlib.axes._subplots.AxesSubplot at 0x7faa7fcc2410>"
            ]
          },
          "metadata": {},
          "execution_count": 85
        },
        {
          "output_type": "display_data",
          "data": {
            "image/png": "[encoded data removed]",
            "text/plain": [
              "<Figure size 1080x576 with 1 Axes>"
            ]
          },
          "metadata": {
            "needs_background": "light"
          }
        }
      ]
    },
    {
      "cell_type": "markdown",
      "metadata": {
        "id": "1s0mLUbSPKIa"
      },
      "source": [
        "Now we have all the data in one DataFrame, but now what? I think we need to subtract the baseline from each column. I'm not sure how to do that."
      ]
    },
    {
      "cell_type": "code",
      "metadata": {
        "id": "_u_gviqvPLzE"
      },
      "source": [
        "data_substrated = all_data.subtract(all_data['Baseline'], axis=0)"
      ],
      "execution_count": 87,
      "outputs": []
    },
    {
      "cell_type": "code",
      "metadata": {
        "colab": {
          "base_uri": "https://localhost:8080/",
          "height": 450
        },
        "id": "7MsYptrmQaEc",
        "outputId": "19f0ebbf-586c-4836-e503-61ce1f83f206"
      },
      "source": [
        "data_substrated"
      ],
      "execution_count": 88,
      "outputs": [
        {
          "output_type": "execute_result",
          "data": {
            "text/html": [
              "<div>\n",
              "<style scoped>\n",
              "    .dataframe tbody tr th:only-of-type {\n",
              "        vertical-align: middle;\n",
              "    }\n",
              "\n",
              "    .dataframe tbody tr th {\n",
              "        vertical-align: top;\n",
              "    }\n",
              "\n",
              "    .dataframe thead th {\n",
              "        text-align: right;\n",
              "    }\n",
              "</style>\n",
              "<table border=\"1\" class=\"dataframe\">\n",
              "  <thead>\n",
              "    <tr style=\"text-align: right;\">\n",
              "      <th></th>\n",
              "      <th>Scenario - Aircon Schedules</th>\n",
              "      <th>Scenario - Cool roof</th>\n",
              "      <th>Scenario - Rooftop Gardens</th>\n",
              "      <th>Scenario - Increase Setpoint</th>\n",
              "      <th>Scenario - Low-E Glass</th>\n",
              "      <th>Baseline</th>\n",
              "    </tr>\n",
              "    <tr>\n",
              "      <th>Month</th>\n",
              "      <th></th>\n",
              "      <th></th>\n",
              "      <th></th>\n",
              "      <th></th>\n",
              "      <th></th>\n",
              "      <th></th>\n",
              "    </tr>\n",
              "  </thead>\n",
              "  <tbody>\n",
              "    <tr>\n",
              "      <th>January</th>\n",
              "      <td>-0.08</td>\n",
              "      <td>-1.23</td>\n",
              "      <td>0.61</td>\n",
              "      <td>-2.96</td>\n",
              "      <td>-0.28</td>\n",
              "      <td>0.0</td>\n",
              "    </tr>\n",
              "    <tr>\n",
              "      <th>February</th>\n",
              "      <td>-0.25</td>\n",
              "      <td>-1.36</td>\n",
              "      <td>0.40</td>\n",
              "      <td>-2.87</td>\n",
              "      <td>-0.27</td>\n",
              "      <td>0.0</td>\n",
              "    </tr>\n",
              "    <tr>\n",
              "      <th>March</th>\n",
              "      <td>-0.94</td>\n",
              "      <td>-1.68</td>\n",
              "      <td>0.26</td>\n",
              "      <td>-4.04</td>\n",
              "      <td>-0.27</td>\n",
              "      <td>0.0</td>\n",
              "    </tr>\n",
              "    <tr>\n",
              "      <th>April</th>\n",
              "      <td>-1.65</td>\n",
              "      <td>-1.87</td>\n",
              "      <td>-0.01</td>\n",
              "      <td>-4.23</td>\n",
              "      <td>-0.24</td>\n",
              "      <td>0.0</td>\n",
              "    </tr>\n",
              "    <tr>\n",
              "      <th>May</th>\n",
              "      <td>-2.82</td>\n",
              "      <td>-2.06</td>\n",
              "      <td>-0.40</td>\n",
              "      <td>-4.52</td>\n",
              "      <td>-0.20</td>\n",
              "      <td>0.0</td>\n",
              "    </tr>\n",
              "    <tr>\n",
              "      <th>June</th>\n",
              "      <td>-3.75</td>\n",
              "      <td>-2.10</td>\n",
              "      <td>-0.52</td>\n",
              "      <td>-4.63</td>\n",
              "      <td>-0.17</td>\n",
              "      <td>0.0</td>\n",
              "    </tr>\n",
              "    <tr>\n",
              "      <th>July</th>\n",
              "      <td>-4.89</td>\n",
              "      <td>-2.26</td>\n",
              "      <td>-0.73</td>\n",
              "      <td>-5.04</td>\n",
              "      <td>-0.18</td>\n",
              "      <td>0.0</td>\n",
              "    </tr>\n",
              "    <tr>\n",
              "      <th>August</th>\n",
              "      <td>-4.99</td>\n",
              "      <td>-2.16</td>\n",
              "      <td>-0.66</td>\n",
              "      <td>-4.98</td>\n",
              "      <td>-0.22</td>\n",
              "      <td>0.0</td>\n",
              "    </tr>\n",
              "    <tr>\n",
              "      <th>September</th>\n",
              "      <td>-4.66</td>\n",
              "      <td>-2.06</td>\n",
              "      <td>-0.41</td>\n",
              "      <td>-5.12</td>\n",
              "      <td>-0.27</td>\n",
              "      <td>0.0</td>\n",
              "    </tr>\n",
              "    <tr>\n",
              "      <th>October</th>\n",
              "      <td>-2.60</td>\n",
              "      <td>-1.90</td>\n",
              "      <td>0.04</td>\n",
              "      <td>-4.82</td>\n",
              "      <td>-0.31</td>\n",
              "      <td>0.0</td>\n",
              "    </tr>\n",
              "    <tr>\n",
              "      <th>November</th>\n",
              "      <td>-1.31</td>\n",
              "      <td>-1.61</td>\n",
              "      <td>0.53</td>\n",
              "      <td>-4.53</td>\n",
              "      <td>-0.33</td>\n",
              "      <td>0.0</td>\n",
              "    </tr>\n",
              "    <tr>\n",
              "      <th>December</th>\n",
              "      <td>-0.37</td>\n",
              "      <td>-1.17</td>\n",
              "      <td>0.66</td>\n",
              "      <td>-3.38</td>\n",
              "      <td>-0.29</td>\n",
              "      <td>0.0</td>\n",
              "    </tr>\n",
              "  </tbody>\n",
              "</table>\n",
              "</div>"
            ],
            "text/plain": [
              "           Scenario - Aircon Schedules  ...  Baseline\n",
              "Month                                   ...          \n",
              "January                          -0.08  ...       0.0\n",
              "February                         -0.25  ...       0.0\n",
              "March                            -0.94  ...       0.0\n",
              "April                            -1.65  ...       0.0\n",
              "May                              -2.82  ...       0.0\n",
              "June                             -3.75  ...       0.0\n",
              "July                             -4.89  ...       0.0\n",
              "August                           -4.99  ...       0.0\n",
              "September                        -4.66  ...       0.0\n",
              "October                          -2.60  ...       0.0\n",
              "November                         -1.31  ...       0.0\n",
              "December                         -0.37  ...       0.0\n",
              "\n",
              "[12 rows x 6 columns]"
            ]
          },
          "metadata": {},
          "execution_count": 88
        }
      ]
    },
    {
      "cell_type": "code",
      "metadata": {
        "colab": {
          "base_uri": "https://localhost:8080/",
          "height": 418
        },
        "id": "2SAqCdmbQcu0",
        "outputId": "9437f32d-d18e-4011-a372-99fcb3e346bc"
      },
      "source": [
        "data_substrated.sum().plot.bar()"
      ],
      "execution_count": 91,
      "outputs": [
        {
          "output_type": "execute_result",
          "data": {
            "text/plain": [
              "<matplotlib.axes._subplots.AxesSubplot at 0x7faa7e33d410>"
            ]
          },
          "metadata": {},
          "execution_count": 91
        },
        {
          "output_type": "display_data",
          "data": {
            "image/png": "[encoded data removed]",
            "text/plain": [
              "<Figure size 432x288 with 1 Axes>"
            ]
          },
          "metadata": {
            "needs_background": "light"
          }
        }
      ]
    },
    {
      "cell_type": "markdown",
      "metadata": {
        "id": "LLOInKN0QyGl"
      },
      "source": [
        "Turns out that Increasing the setpoing is by far the most effective energy savings option! Schedules are second place and cool roof is third. The Rooftop gardens and Low-E glass seem to have only a bit of impact for this building"
      ]
    }
  ]
}